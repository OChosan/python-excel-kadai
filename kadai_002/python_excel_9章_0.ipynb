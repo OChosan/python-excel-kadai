{
  "nbformat": 4,
  "nbformat_minor": 0,
  "metadata": {
    "colab": {
      "provenance": []
    },
    "kernelspec": {
      "name": "python3",
      "display_name": "Python 3"
    },
    "language_info": {
      "name": "python"
    }
  },
  "cells": [
    {
      "cell_type": "code",
      "execution_count": 1,
      "metadata": {
        "id": "YuDjNIyErxtF"
      },
      "outputs": [],
      "source": [
        "import pandas as pd\n",
        "\n",
        "# 元データをDataFrameとして作成\n",
        "data = {\n",
        "    '日付': ['2023-05-17', '2023-05-18', '2023-05-19', '2023-05-20', '2023-05-21'],\n",
        "    '社員名': ['山田', '佐藤', '鈴木', '田中', '高橋'],\n",
        "    '売上': [100, 200, 150, 300, 250],\n",
        "    '部門': ['メーカー', '代理店', 'メーカー', '商社', '代理店']\n",
        "}\n",
        "\n",
        "df = pd.DataFrame(data)\n",
        "\n",
        "# 全体の売上の平均を算出\n",
        "平均売上 = df['売上'].mean()\n",
        "df['平均売上'] = 平均売上\n",
        "\n",
        "# 業績ランク関数を定義\n",
        "def performance(row):\n",
        "    if row['売上'] >= 平均売上 + 50:\n",
        "        return 'A'\n",
        "    elif row['売上'] >= 平均売上:\n",
        "        return 'B'\n",
        "    else:\n",
        "        return 'C'\n",
        "\n",
        "# 業績ランク列を作成\n",
        "df['業績ランク'] = df.apply(performance, axis=1)\n",
        "\n",
        "# Excelファイルを作成\n",
        "writer = pd.ExcelWriter('業績.xlsx')\n",
        "\n",
        "\n",
        "# 結果を新しいExcelファイルに書き出し\n",
        "df.to_excel(writer, sheet_name='Sheet1', index=False)\n",
        "\n",
        "# Excelファイルを閉じる\n",
        "writer.close()"
      ]
    }
  ]
}