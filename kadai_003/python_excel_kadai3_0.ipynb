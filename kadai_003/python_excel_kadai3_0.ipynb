{
  "nbformat": 4,
  "nbformat_minor": 0,
  "metadata": {
    "colab": {
      "provenance": []
    },
    "kernelspec": {
      "name": "python3",
      "display_name": "Python 3"
    },
    "language_info": {
      "name": "python"
    }
  },
  "cells": [
    {
      "cell_type": "code",
      "execution_count": 7,
      "metadata": {
        "id": "wrIRIz-hblRD"
      },
      "outputs": [],
      "source": [
        "import pandas as pd\n",
        "from openpyxl import load_workbook\n",
        "from openpyxl.styles import PatternFill\n",
        "\n",
        "# Step3. データの連結と集計\n",
        "# Excelファイルの読み込み\n",
        "df_2022 = pd.read_excel(\"/content/sample_data/2022_年間売上表.xlsx\", sheet_name=\"Sheet1\")\n",
        "df_2023 = pd.read_excel(\"/content/sample_data/2023_年間売上表.xlsx\", sheet_name=\"Sheet1\")\n",
        "\n",
        "# データの連結\n",
        "df_all = pd.concat([df_2022, df_2023])\n",
        "\n",
        "# 商品・売上年ごとの合計金額を算出\n",
        "df_grouped = df_all.groupby([ '商品','売上年']).sum().reset_index()\n",
        "\n",
        "# 新規Excelファイルに書き込み\n",
        "output_file = \"売上集計表.xlsx\"\n",
        "df_grouped.to_excel(output_file, index=False, sheet_name=\"Sheet1\")\n",
        "\n",
        "# Step4. 売上集計表の作成とヘッダーの書式変更\n",
        "# 既存Excelファイルの読み込み\n",
        "wb = load_workbook(output_file)\n",
        "ws = wb.active\n",
        "\n",
        "# ヘッダーの書式変更：薄いグレー（#F2F2F2）\n",
        "header_fill = PatternFill(start_color='F2F2F2', end_color='F2F2F2', fill_type='solid')\n",
        "\n",
        "for cell in ws[1]:\n",
        "    cell.fill = header_fill\n",
        "\n",
        "# Excelファイルを保存\n",
        "wb.save(output_file)"
      ]
    }
  ]
}