{
  "nbformat": 4,
  "nbformat_minor": 0,
  "metadata": {
    "colab": {
      "provenance": []
    },
    "kernelspec": {
      "name": "python3",
      "display_name": "Python 3"
    },
    "language_info": {
      "name": "python"
    }
  },
  "cells": [
    {
      "cell_type": "code",
      "execution_count": 6,
      "metadata": {
        "id": "Kx_7_RfCdekI"
      },
      "outputs": [],
      "source": [
        "import openpyxl\n",
        "from datetime import datetime  # datetime モジュールのインポート\n",
        "\n",
        "# 新しいワークブックを作成し、アクティブシートを取得\n",
        "workbook = openpyxl.Workbook()\n",
        "worksheet = workbook.active\n",
        "\n",
        "# 現在の日付（年月日）を取得して、変数todayに代入する\n",
        "today = datetime.today()\n",
        "\n",
        "worksheet[\"B2\"] = \"請求書\"\n",
        "worksheet[\"B4\"] = \"株式会社ABC\"\n",
        "worksheet[\"B5\"] = \"〒101-0022 東京都千代田区神田練塀町300\"\n",
        "worksheet[\"B6\"] = \"TEL:03-1234-5678 FAX:03-1234-5678\"\n",
        "worksheet[\"B7\"] = \"担当者名:鈴木一郎 様\"\n",
        "worksheet[\"F4\"] = \"No.\"\n",
        "worksheet[\"G4\"] = \"0001\"\n",
        "worksheet[\"F5\"] = \"日付\"\n",
        "worksheet[\"G5\"] = today.strftime(\"%Y/%m/%d\")  # 日付を文字列フォーマットする\n",
        "worksheet[\"B15\"] = \"小計\"\n",
        "worksheet[\"B16\"] = \"消費税\"\n",
        "worksheet[\"B17\"] = \"税込み合計\"\n",
        "\n",
        "# 日付のtodayオブジェクトを、特定のフォーマットで文字列に変換する\n",
        "backup_filename = f\"請求書_{today.strftime('%Y%m%d')}.xlsx\"\n",
        "\n",
        "# HeaderをB10に配置\n",
        "header = ['商品名', '数量', '単価', '金額']\n",
        "for col_num, title in enumerate(header, start=2):  # B列から始めるため、start=2\n",
        "    worksheet.cell(row=10, column=col_num, value=title)\n",
        "\n",
        "# データをB11列から配置\n",
        "data_start_row = 11\n",
        "data = [\n",
        "    ['商品A', 2, 10000, 20000],\n",
        "    ['商品B', 1, 15000, 15000],\n",
        "    ['', '', '', 35000]\n",
        "]\n",
        "\n",
        "for row_idx, row_data in enumerate(data, start=data_start_row):\n",
        "    for col_idx, cell_value in enumerate(row_data, start=2):  # B列から始めるため、start=2\n",
        "        worksheet.cell(row=row_idx, column=col_idx, value=cell_value)\n",
        "\n",
        "# セルの位置に関する修正\n",
        "worksheet['E15'] = '=SUM(E11:E12)'  # 合計を計算する数式を設定\n",
        "worksheet['E16'] = '=E15*0.10'    # 消費税を計算する数式を設定\n",
        "worksheet['E17'] = '=E15+E16'     # 税込み合計を計算する数式を設定\n",
        "\n",
        "# Excelファイルを保存\n",
        "workbook.save(backup_filename)"
      ]
    },
    {
      "cell_type": "markdown",
      "source": [
        "# 新しいセクション"
      ],
      "metadata": {
        "id": "81R_XGHt6Ya8"
      }
    }
  ]
}